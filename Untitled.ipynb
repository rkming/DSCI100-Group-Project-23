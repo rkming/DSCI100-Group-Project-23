{
 "cells": [
  {
   "cell_type": "code",
   "execution_count": 2,
   "id": "f35f60a1-27fc-4a35-9d65-ae79dd8bf2f1",
   "metadata": {},
   "outputs": [
    {
     "name": "stderr",
     "output_type": "stream",
     "text": [
      "Updating HTML index of packages in '.Library'\n",
      "\n",
      "Making 'packages.html' ...\n",
      " done\n",
      "\n",
      "also installing the dependencies ‘lifecycle’, ‘tidyselect’, ‘vctrs’, ‘tibble’, ‘gargle’, ‘googledrive’, ‘timechange’, ‘textshaping’, ‘vroom’, ‘broom’, ‘conflicted’, ‘cli’, ‘dbplyr’, ‘dplyr’, ‘dtplyr’, ‘forcats’, ‘ggplot2’, ‘googlesheets4’, ‘haven’, ‘hms’, ‘httr’, ‘jsonlite’, ‘lubridate’, ‘modelr’, ‘pillar’, ‘purrr’, ‘ragg’, ‘readr’, ‘readxl’, ‘reprex’, ‘rlang’, ‘rstudioapi’, ‘rvest’, ‘stringr’, ‘tidyr’\n",
      "\n",
      "\n",
      "Warning message in install.packages(\"tidyverse\"):\n",
      "“installation of package ‘textshaping’ had non-zero exit status”\n",
      "Warning message in install.packages(\"tidyverse\"):\n",
      "“installation of package ‘ragg’ had non-zero exit status”\n",
      "Warning message in install.packages(\"tidyverse\"):\n",
      "“installation of package ‘tidyverse’ had non-zero exit status”\n",
      "Updating HTML index of packages in '.Library'\n",
      "\n",
      "Making 'packages.html' ...\n",
      " done\n",
      "\n"
     ]
    }
   ],
   "source": [
    "install.packages(\"kknn\")\n",
    "install.packages(\"tidyverse\")"
   ]
  },
  {
   "cell_type": "code",
   "execution_count": null,
   "id": "3c960f39-411d-4887-86c9-e27af600397b",
   "metadata": {},
   "outputs": [],
   "source": []
  }
 ],
 "metadata": {
  "kernelspec": {
   "display_name": "R",
   "language": "R",
   "name": "ir"
  },
  "language_info": {
   "codemirror_mode": "r",
   "file_extension": ".r",
   "mimetype": "text/x-r-source",
   "name": "R",
   "pygments_lexer": "r",
   "version": "4.1.1"
  }
 },
 "nbformat": 4,
 "nbformat_minor": 5
}
